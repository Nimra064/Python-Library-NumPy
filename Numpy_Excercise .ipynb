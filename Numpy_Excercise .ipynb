{
  "nbformat": 4,
  "nbformat_minor": 0,
  "metadata": {
    "colab": {
      "provenance": []
    },
    "kernelspec": {
      "name": "python3",
      "display_name": "Python 3"
    },
    "language_info": {
      "name": "python"
    }
  },
  "cells": [
    {
      "cell_type": "markdown",
      "source": [
        "# Practice Excercise Questions"
      ],
      "metadata": {
        "id": "klCdF5MhHYna"
      }
    },
    {
      "cell_type": "markdown",
      "source": [
        "# Question 1"
      ],
      "metadata": {
        "id": "PIqdSxyuVtSB"
      }
    },
    {
      "cell_type": "markdown",
      "source": [
        "**Create a NumPy array of 10 random integers between 0 and 100, and print the array to the console.**"
      ],
      "metadata": {
        "id": "MAhgr-OaVnhs"
      }
    },
    {
      "cell_type": "code",
      "source": [
        "import numpy as np\n",
        "input_list=[]\n",
        "for i in range(0,10):\n",
        "  arr=np.random.randint(0,100)\n",
        "  input_list.append(arr)\n",
        "  i+=1\n",
        "\n",
        "output=np.array(input_list)\n",
        "print(output)\n",
        "print(type(output))"
      ],
      "metadata": {
        "colab": {
          "base_uri": "https://localhost:8080/"
        },
        "id": "k63ZMngOVyeP",
        "outputId": "840fe4bf-79a7-41ef-dc32-f22931444ecc"
      },
      "execution_count": null,
      "outputs": [
        {
          "output_type": "stream",
          "name": "stdout",
          "text": [
            "[ 9 78 86 26 85 58 67 69 10 49]\n",
            "<class 'numpy.ndarray'>\n"
          ]
        }
      ]
    },
    {
      "cell_type": "markdown",
      "source": [
        "# Question 2"
      ],
      "metadata": {
        "id": "ihSBLK2dYS63"
      }
    },
    {
      "cell_type": "markdown",
      "source": [
        "Create a 2D NumPy array of size 3x3, with each element initialized to the value 5.0, and print the array to the console."
      ],
      "metadata": {
        "id": "celzJqrAYaUx"
      }
    },
    {
      "cell_type": "code",
      "source": [
        "arr=np.ones((3,3))\n",
        "arr=arr*5.0\n",
        "print(arr)"
      ],
      "metadata": {
        "colab": {
          "base_uri": "https://localhost:8080/"
        },
        "id": "EX-6sChTYqNj",
        "outputId": "fd1f342b-3669-49a2-bd92-99650938f6c3"
      },
      "execution_count": null,
      "outputs": [
        {
          "output_type": "stream",
          "name": "stdout",
          "text": [
            "[[5. 5. 5.]\n",
            " [5. 5. 5.]\n",
            " [5. 5. 5.]]\n"
          ]
        }
      ]
    },
    {
      "cell_type": "markdown",
      "source": [
        "# Question 3"
      ],
      "metadata": {
        "id": "sD0EMfpFaQ8O"
      }
    },
    {
      "cell_type": "markdown",
      "source": [
        "Create a NumPy array of 10 equally spaced values between 0 and 1, and print the array to the console."
      ],
      "metadata": {
        "id": "PoWqWua_aVIq"
      }
    },
    {
      "cell_type": "code",
      "source": [
        "a=np.linspace(0 , 1 , 10)\n",
        "print(a)"
      ],
      "metadata": {
        "colab": {
          "base_uri": "https://localhost:8080/"
        },
        "id": "nyPFSfUyaUIq",
        "outputId": "514b0b0d-e60c-44de-b3d1-0f8def9f9dda"
      },
      "execution_count": null,
      "outputs": [
        {
          "output_type": "stream",
          "name": "stdout",
          "text": [
            "[0.         0.11111111 0.22222222 0.33333333 0.44444444 0.55555556\n",
            " 0.66666667 0.77777778 0.88888889 1.        ]\n"
          ]
        }
      ]
    },
    {
      "cell_type": "markdown",
      "source": [
        "# Question 4"
      ],
      "metadata": {
        "id": "M8z6chCadGWF"
      }
    },
    {
      "cell_type": "markdown",
      "source": [
        "Create a NumPy array of 20 values between -1 and 1, spaced at irregular intervals using a sine function, and print the array to the console."
      ],
      "metadata": {
        "id": "Rj0DSNS8dJpH"
      }
    },
    {
      "cell_type": "code",
      "source": [
        "a=np.linspace(-np.pi,np.pi,20)\n",
        "b=np.sin(a)\n",
        "\n",
        "print(b)"
      ],
      "metadata": {
        "colab": {
          "base_uri": "https://localhost:8080/"
        },
        "id": "HM-uWjPhdOzF",
        "outputId": "4a68a0aa-48a1-4e85-80f1-63adc9e8990e"
      },
      "execution_count": null,
      "outputs": [
        {
          "output_type": "stream",
          "name": "stdout",
          "text": [
            "[-1.22464680e-16 -3.24699469e-01 -6.14212713e-01 -8.37166478e-01\n",
            " -9.69400266e-01 -9.96584493e-01 -9.15773327e-01 -7.35723911e-01\n",
            " -4.75947393e-01 -1.64594590e-01  1.64594590e-01  4.75947393e-01\n",
            "  7.35723911e-01  9.15773327e-01  9.96584493e-01  9.69400266e-01\n",
            "  8.37166478e-01  6.14212713e-01  3.24699469e-01  1.22464680e-16]\n"
          ]
        }
      ]
    },
    {
      "cell_type": "markdown",
      "source": [
        "# Question 5"
      ],
      "metadata": {
        "id": "lFm57oUQisas"
      }
    },
    {
      "cell_type": "markdown",
      "source": [
        "Create a 3D NumPy array of size 3x3x3, with each element initialized to a random integer between 0 and 9, and print the array to the console."
      ],
      "metadata": {
        "id": "10gk1ZRKizqK"
      }
    },
    {
      "cell_type": "code",
      "source": [
        "array_list=[]\n",
        "for i in range(0,27):\n",
        "  arr=np.random.randint(0,9)\n",
        "  array_list.append(arr)\n",
        "\n",
        "array_list=np.array(array_list).reshape((3,3,3))\n",
        "print(array_list)"
      ],
      "metadata": {
        "colab": {
          "base_uri": "https://localhost:8080/"
        },
        "id": "CQ9LeWrUiytg",
        "outputId": "ed84a704-7920-4d4d-a9be-7c247bb4d3fe"
      },
      "execution_count": null,
      "outputs": [
        {
          "output_type": "stream",
          "name": "stdout",
          "text": [
            "[[[6 6 5]\n",
            "  [4 7 7]\n",
            "  [8 4 6]]\n",
            "\n",
            " [[0 3 3]\n",
            "  [7 3 0]\n",
            "  [3 8 4]]\n",
            "\n",
            " [[6 6 4]\n",
            "  [6 0 1]\n",
            "  [6 1 7]]]\n"
          ]
        }
      ]
    },
    {
      "cell_type": "markdown",
      "source": [
        "# Question 6"
      ],
      "metadata": {
        "id": "0HXDOIHQlLYh"
      }
    },
    {
      "cell_type": "markdown",
      "source": [
        "Create a 2D NumPy array of size 4x4, with each row containing the values 1, 2, 3, and 4, respectively, and print the array to the console."
      ],
      "metadata": {
        "id": "WaObOZx7lORU"
      }
    },
    {
      "cell_type": "code",
      "source": [
        "arr=[1,2,3,4,1,2,3,4,1,2,3,4,1,2,3,4]\n",
        "arr=np.array(arr).reshape(4,4)\n",
        "print(arr)"
      ],
      "metadata": {
        "colab": {
          "base_uri": "https://localhost:8080/"
        },
        "id": "U28g5n-5lUHX",
        "outputId": "a7bf046e-0a09-4c21-8297-377f0705fe11"
      },
      "execution_count": null,
      "outputs": [
        {
          "output_type": "stream",
          "name": "stdout",
          "text": [
            "[[1 2 3 4]\n",
            " [1 2 3 4]\n",
            " [1 2 3 4]\n",
            " [1 2 3 4]]\n"
          ]
        }
      ]
    },
    {
      "cell_type": "code",
      "source": [
        "my_array = np.tile([1, 2, 3, 4], (4, 1))\n",
        "print(my_array)"
      ],
      "metadata": {
        "colab": {
          "base_uri": "https://localhost:8080/"
        },
        "id": "XSNjaeLAwESi",
        "outputId": "fbf978de-6f79-4ffc-d8a1-f01ced9598ae"
      },
      "execution_count": null,
      "outputs": [
        {
          "output_type": "stream",
          "name": "stdout",
          "text": [
            "[[1 2 3 4]\n",
            " [1 2 3 4]\n",
            " [1 2 3 4]\n",
            " [1 2 3 4]]\n"
          ]
        }
      ]
    },
    {
      "cell_type": "markdown",
      "source": [
        "# Question 7"
      ],
      "metadata": {
        "id": "I_cM5oZhnQBL"
      }
    },
    {
      "cell_type": "markdown",
      "source": [
        "Create a NumPy array of 10 random integers between 0 and 100, and then sort the array in descending order, and print the sorted array to the console."
      ],
      "metadata": {
        "id": "WRQ02k5lnUkw"
      }
    },
    {
      "cell_type": "code",
      "source": [
        "my_list=[]\n",
        "for i in range(0,10):\n",
        "  my_array=np.random.randint(0,100)\n",
        "  my_list.append(my_array)\n",
        "\n",
        "my_list.sort(reverse=True)\n",
        "my_list=np.array(my_list)\n",
        "print(my_list)"
      ],
      "metadata": {
        "colab": {
          "base_uri": "https://localhost:8080/"
        },
        "id": "CpZ9Veo6nT7X",
        "outputId": "2ae6e0ab-175c-4e40-dbfe-4ab4db65e73d"
      },
      "execution_count": null,
      "outputs": [
        {
          "output_type": "stream",
          "name": "stdout",
          "text": [
            "[96 90 86 74 58 41 41 18 14  0]\n"
          ]
        }
      ]
    },
    {
      "cell_type": "markdown",
      "source": [
        "# Question 8"
      ],
      "metadata": {
        "id": "n5E2yvsm-dl2"
      }
    },
    {
      "cell_type": "markdown",
      "source": [
        "Create a NumPy array of 5 values between 0 and 1, and then round the values to 2 decimal places, and print the rounded array to the console."
      ],
      "metadata": {
        "id": "3JRwGdcl-hPo"
      }
    },
    {
      "cell_type": "code",
      "source": [
        "arr=np.linspace(0,1 ,5)\n",
        "for i in range(0,5):\n",
        "  arr[i]=round(arr[i], 2)\n",
        "  i+=1\n",
        "print(arr)"
      ],
      "metadata": {
        "colab": {
          "base_uri": "https://localhost:8080/"
        },
        "id": "wesvUI16-7dG",
        "outputId": "e0007ec2-bc70-4321-e691-6f691979f3a4"
      },
      "execution_count": null,
      "outputs": [
        {
          "output_type": "stream",
          "name": "stdout",
          "text": [
            "[0.   0.25 0.5  0.75 1.  ]\n"
          ]
        }
      ]
    },
    {
      "cell_type": "markdown",
      "source": [
        "# Question 9"
      ],
      "metadata": {
        "id": "p_NLEFHKBM9I"
      }
    },
    {
      "cell_type": "markdown",
      "source": [
        "Create a 2D NumPy array of size 5x5, with each element initialized to a random integer between 0 and 9. Then, extract the diagonal elements of the array, and print them to the console."
      ],
      "metadata": {
        "id": "DF9NCsw4BQw8"
      }
    },
    {
      "cell_type": "code",
      "source": [
        "my_list=[]\n",
        "for i in range(0,25):\n",
        "  arr=np.random.randint(0,9)\n",
        "  my_list.append(arr)\n",
        "\n",
        "my_list=np.diag(np.array(my_list).reshape(5,5))\n",
        "print(my_list)"
      ],
      "metadata": {
        "colab": {
          "base_uri": "https://localhost:8080/"
        },
        "id": "mqZKYZE6BQB0",
        "outputId": "f37bbb6d-5ade-4625-8e06-caf13ba9bc17"
      },
      "execution_count": null,
      "outputs": [
        {
          "output_type": "stream",
          "name": "stdout",
          "text": [
            "[4 2 8 1 1]\n"
          ]
        }
      ]
    },
    {
      "cell_type": "markdown",
      "source": [
        "# Question 10"
      ],
      "metadata": {
        "id": "ubaBKgE8Cs4k"
      }
    },
    {
      "cell_type": "markdown",
      "source": [
        "Create a 2D NumPy array of size 5x5, with each element initialized to a random integer between 0 and 9. Then, calculate the sum, mean, and standard deviation of the elements in each row of the array, and print the results to the console."
      ],
      "metadata": {
        "id": "sal9o5KBCwH-"
      }
    },
    {
      "cell_type": "code",
      "source": [
        "my_list=[]\n",
        "means=[]\n",
        "sums=[]\n",
        "stds=[]\n",
        "\n",
        "for i in range(0,25):\n",
        "  arr=np.random.randint(0,9)\n",
        "  my_list.append(arr)\n",
        "\n",
        "my_list=np.array(my_list).reshape(5,5)\n",
        "for i in range(0,len(my_list)):\n",
        "  mean=my_list[i].mean()\n",
        "  means.append(mean)\n",
        "  sum=my_list[i].sum()\n",
        "  sums.append(sum)\n",
        "  std=my_list[i].std()\n",
        "  stds.append(std)\n",
        "\n",
        "\n",
        "\n",
        "print('Means Row By Row=' , means)\n",
        "print('Sum row by row ='  , sums)\n",
        "print('std row by row =' , stds)"
      ],
      "metadata": {
        "colab": {
          "base_uri": "https://localhost:8080/"
        },
        "id": "QbLRNDM5DFS7",
        "outputId": "a4bac43a-3e69-444c-8d9c-118a11cfc997"
      },
      "execution_count": null,
      "outputs": [
        {
          "output_type": "stream",
          "name": "stdout",
          "text": [
            "Means Row By Row= [3.4, 3.0, 4.4, 2.2, 1.6]\n",
            "Sum row by row = [17, 15, 22, 11, 8]\n",
            "std row by row = [2.33238075793812, 1.4142135623730951, 3.261901286060018, 2.039607805437114, 1.3564659966250536]\n"
          ]
        }
      ]
    }
  ]
}